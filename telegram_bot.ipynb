{
 "cells": [
  {
   "cell_type": "code",
   "execution_count": 1,
   "metadata": {},
   "outputs": [],
   "source": [
    "import requests"
   ]
  },
  {
   "cell_type": "code",
   "execution_count": 15,
   "metadata": {},
   "outputs": [
    {
     "name": "stdout",
     "output_type": "stream",
     "text": [
      "200\n"
     ]
    }
   ],
   "source": [
    "#url = \"",
    "url = \"",
    "parameters = {\n",
    "    \"chat_id\": \"-1001756600844\",\n",
    "    \"text\": \"Hi from bot\"\n",
    "}\n",
    "r = requests.get(url, data = parameters)\n",
    "print(r.status_code)"
   ]
  },
  {
   "cell_type": "code",
   "execution_count": 16,
   "metadata": {
    "scrolled": true
   },
   "outputs": [
    {
     "name": "stdout",
     "output_type": "stream",
     "text": [
      "{\"ok\":true,\"result\":{\"message_id\":191,\"from\":{\"id\":5257652962,\"is_bot\":true,\"first_name\":\"delivery_bot\",\"username\":\"mehedi_delivery_bot\"},\"chat\":{\"id\":-433154000,\"title\":\"my_testing_group\",\"type\":\"group\",\"all_members_are_administrators\":true},\"date\":1650023758,\"text\":\"Hi from bot\"}}\n"
     ]
    }
   ],
   "source": [
    "print(r.text)"
   ]
  },
  {
   "cell_type": "code",
   "execution_count": 2,
   "metadata": {
    "scrolled": true
   },
   "outputs": [
    {
     "name": "stdout",
     "output_type": "stream",
     "text": [
      "200\n"
     ]
    }
   ],
   "source": [
    "a = \"https://api.telegram.org/bot5204439277:AAFVmrTGpsMv3YueDuQG_RZZh2zN4IjIfzk/getUpdates\"\n",
    "resp = requests.get(a)\n",
    "print(resp.status_code)"
   ]
  },
  {
   "cell_type": "code",
   "execution_count": 3,
   "metadata": {
    "scrolled": true
   },
   "outputs": [
    {
     "name": "stdout",
     "output_type": "stream",
     "text": [
      "{\"ok\":true,\"result\":[{\"update_id\":780073573,\n",
      "\"message\":{\"message_id\":97,\"from\":{\"id\":5222251997,\"is_bot\":false,\"first_name\":\"Kh\"},\"chat\":{\"id\":-1001756600844,\"title\":\"Juuteeka OP\",\"username\":\"juuteekaop\",\"type\":\"supergroup\"},\"date\":1650042536,\"new_chat_participant\":{\"id\":5204439277,\"is_bot\":true,\"first_name\":\"Juuteek order bot\",\"username\":\"Juuteeka_bot\"},\"new_chat_member\":{\"id\":5204439277,\"is_bot\":true,\"first_name\":\"Juuteek order bot\",\"username\":\"Juuteeka_bot\"},\"new_chat_members\":[{\"id\":5204439277,\"is_bot\":true,\"first_name\":\"Juuteek order bot\",\"username\":\"Juuteeka_bot\"}]}},{\"update_id\":780073574,\n",
      "\"my_chat_member\":{\"chat\":{\"id\":-1001756600844,\"title\":\"Juuteeka OP\",\"username\":\"juuteekaop\",\"type\":\"supergroup\"},\"from\":{\"id\":5222251997,\"is_bot\":false,\"first_name\":\"Kh\"},\"date\":1650042536,\"old_chat_member\":{\"user\":{\"id\":5204439277,\"is_bot\":true,\"first_name\":\"Juuteek order bot\",\"username\":\"Juuteeka_bot\"},\"status\":\"left\"},\"new_chat_member\":{\"user\":{\"id\":5204439277,\"is_bot\":true,\"first_name\":\"Juuteek order bot\",\"username\":\"Juuteeka_bot\"},\"status\":\"member\"}}}]}\n"
     ]
    }
   ],
   "source": [
    "print(resp.text)"
   ]
  },
  {
   "cell_type": "code",
   "execution_count": null,
   "metadata": {},
   "outputs": [],
   "source": []
  },
  {
   "cell_type": "code",
   "execution_count": null,
   "metadata": {},
   "outputs": [],
   "source": []
  }
 ],
 "metadata": {
  "kernelspec": {
   "display_name": "Python 3",
   "language": "python",
   "name": "python3"
  },
  "language_info": {
   "codemirror_mode": {
    "name": "ipython",
    "version": 3
   },
   "file_extension": ".py",
   "mimetype": "text/x-python",
   "name": "python",
   "nbconvert_exporter": "python",
   "pygments_lexer": "ipython3",
   "version": "3.8.5"
  }
 },
 "nbformat": 4,
 "nbformat_minor": 4
}
